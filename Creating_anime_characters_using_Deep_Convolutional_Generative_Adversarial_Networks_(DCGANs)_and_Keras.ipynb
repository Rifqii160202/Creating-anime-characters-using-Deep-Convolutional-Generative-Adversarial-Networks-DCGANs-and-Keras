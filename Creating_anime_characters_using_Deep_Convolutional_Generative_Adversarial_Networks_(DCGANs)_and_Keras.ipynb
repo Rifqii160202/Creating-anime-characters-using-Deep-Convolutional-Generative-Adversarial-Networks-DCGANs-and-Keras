{
  "nbformat": 4,
  "nbformat_minor": 0,
  "metadata": {
    "colab": {
      "provenance": []
    },
    "kernelspec": {
      "name": "python3",
      "display_name": "Python 3"
    },
    "language_info": {
      "name": "python"
    }
  },
  "cells": [
    {
      "cell_type": "code",
      "source": [
        "!pip install tensorflow matplotlib numpy pillow"
      ],
      "metadata": {
        "id": "m5bIlcRvLOzT",
        "colab": {
          "base_uri": "https://localhost:8080/"
        },
        "outputId": "bee28bc6-e218-4f76-a041-f62a94231a12"
      },
      "execution_count": 42,
      "outputs": [
        {
          "output_type": "stream",
          "name": "stdout",
          "text": [
            "Requirement already satisfied: tensorflow in /usr/local/lib/python3.10/dist-packages (2.17.1)\n",
            "Requirement already satisfied: matplotlib in /usr/local/lib/python3.10/dist-packages (3.8.0)\n",
            "Requirement already satisfied: numpy in /usr/local/lib/python3.10/dist-packages (1.26.4)\n",
            "Requirement already satisfied: pillow in /usr/local/lib/python3.10/dist-packages (11.0.0)\n",
            "Requirement already satisfied: absl-py>=1.0.0 in /usr/local/lib/python3.10/dist-packages (from tensorflow) (1.4.0)\n",
            "Requirement already satisfied: astunparse>=1.6.0 in /usr/local/lib/python3.10/dist-packages (from tensorflow) (1.6.3)\n",
            "Requirement already satisfied: flatbuffers>=24.3.25 in /usr/local/lib/python3.10/dist-packages (from tensorflow) (24.3.25)\n",
            "Requirement already satisfied: gast!=0.5.0,!=0.5.1,!=0.5.2,>=0.2.1 in /usr/local/lib/python3.10/dist-packages (from tensorflow) (0.6.0)\n",
            "Requirement already satisfied: google-pasta>=0.1.1 in /usr/local/lib/python3.10/dist-packages (from tensorflow) (0.2.0)\n",
            "Requirement already satisfied: h5py>=3.10.0 in /usr/local/lib/python3.10/dist-packages (from tensorflow) (3.12.1)\n",
            "Requirement already satisfied: libclang>=13.0.0 in /usr/local/lib/python3.10/dist-packages (from tensorflow) (18.1.1)\n",
            "Requirement already satisfied: ml-dtypes<0.5.0,>=0.3.1 in /usr/local/lib/python3.10/dist-packages (from tensorflow) (0.4.1)\n",
            "Requirement already satisfied: opt-einsum>=2.3.2 in /usr/local/lib/python3.10/dist-packages (from tensorflow) (3.4.0)\n",
            "Requirement already satisfied: packaging in /usr/local/lib/python3.10/dist-packages (from tensorflow) (24.2)\n",
            "Requirement already satisfied: protobuf!=4.21.0,!=4.21.1,!=4.21.2,!=4.21.3,!=4.21.4,!=4.21.5,<5.0.0dev,>=3.20.3 in /usr/local/lib/python3.10/dist-packages (from tensorflow) (4.25.5)\n",
            "Requirement already satisfied: requests<3,>=2.21.0 in /usr/local/lib/python3.10/dist-packages (from tensorflow) (2.32.3)\n",
            "Requirement already satisfied: setuptools in /usr/local/lib/python3.10/dist-packages (from tensorflow) (75.1.0)\n",
            "Requirement already satisfied: six>=1.12.0 in /usr/local/lib/python3.10/dist-packages (from tensorflow) (1.16.0)\n",
            "Requirement already satisfied: termcolor>=1.1.0 in /usr/local/lib/python3.10/dist-packages (from tensorflow) (2.5.0)\n",
            "Requirement already satisfied: typing-extensions>=3.6.6 in /usr/local/lib/python3.10/dist-packages (from tensorflow) (4.12.2)\n",
            "Requirement already satisfied: wrapt>=1.11.0 in /usr/local/lib/python3.10/dist-packages (from tensorflow) (1.16.0)\n",
            "Requirement already satisfied: grpcio<2.0,>=1.24.3 in /usr/local/lib/python3.10/dist-packages (from tensorflow) (1.68.0)\n",
            "Requirement already satisfied: tensorboard<2.18,>=2.17 in /usr/local/lib/python3.10/dist-packages (from tensorflow) (2.17.1)\n",
            "Requirement already satisfied: keras>=3.2.0 in /usr/local/lib/python3.10/dist-packages (from tensorflow) (3.5.0)\n",
            "Requirement already satisfied: tensorflow-io-gcs-filesystem>=0.23.1 in /usr/local/lib/python3.10/dist-packages (from tensorflow) (0.37.1)\n",
            "Requirement already satisfied: contourpy>=1.0.1 in /usr/local/lib/python3.10/dist-packages (from matplotlib) (1.3.1)\n",
            "Requirement already satisfied: cycler>=0.10 in /usr/local/lib/python3.10/dist-packages (from matplotlib) (0.12.1)\n",
            "Requirement already satisfied: fonttools>=4.22.0 in /usr/local/lib/python3.10/dist-packages (from matplotlib) (4.55.0)\n",
            "Requirement already satisfied: kiwisolver>=1.0.1 in /usr/local/lib/python3.10/dist-packages (from matplotlib) (1.4.7)\n",
            "Requirement already satisfied: pyparsing>=2.3.1 in /usr/local/lib/python3.10/dist-packages (from matplotlib) (3.2.0)\n",
            "Requirement already satisfied: python-dateutil>=2.7 in /usr/local/lib/python3.10/dist-packages (from matplotlib) (2.8.2)\n",
            "Requirement already satisfied: wheel<1.0,>=0.23.0 in /usr/local/lib/python3.10/dist-packages (from astunparse>=1.6.0->tensorflow) (0.45.0)\n",
            "Requirement already satisfied: rich in /usr/local/lib/python3.10/dist-packages (from keras>=3.2.0->tensorflow) (13.9.4)\n",
            "Requirement already satisfied: namex in /usr/local/lib/python3.10/dist-packages (from keras>=3.2.0->tensorflow) (0.0.8)\n",
            "Requirement already satisfied: optree in /usr/local/lib/python3.10/dist-packages (from keras>=3.2.0->tensorflow) (0.13.1)\n",
            "Requirement already satisfied: charset-normalizer<4,>=2 in /usr/local/lib/python3.10/dist-packages (from requests<3,>=2.21.0->tensorflow) (3.4.0)\n",
            "Requirement already satisfied: idna<4,>=2.5 in /usr/local/lib/python3.10/dist-packages (from requests<3,>=2.21.0->tensorflow) (3.10)\n",
            "Requirement already satisfied: urllib3<3,>=1.21.1 in /usr/local/lib/python3.10/dist-packages (from requests<3,>=2.21.0->tensorflow) (2.2.3)\n",
            "Requirement already satisfied: certifi>=2017.4.17 in /usr/local/lib/python3.10/dist-packages (from requests<3,>=2.21.0->tensorflow) (2024.8.30)\n",
            "Requirement already satisfied: markdown>=2.6.8 in /usr/local/lib/python3.10/dist-packages (from tensorboard<2.18,>=2.17->tensorflow) (3.7)\n",
            "Requirement already satisfied: tensorboard-data-server<0.8.0,>=0.7.0 in /usr/local/lib/python3.10/dist-packages (from tensorboard<2.18,>=2.17->tensorflow) (0.7.2)\n",
            "Requirement already satisfied: werkzeug>=1.0.1 in /usr/local/lib/python3.10/dist-packages (from tensorboard<2.18,>=2.17->tensorflow) (3.1.3)\n",
            "Requirement already satisfied: MarkupSafe>=2.1.1 in /usr/local/lib/python3.10/dist-packages (from werkzeug>=1.0.1->tensorboard<2.18,>=2.17->tensorflow) (3.0.2)\n",
            "Requirement already satisfied: markdown-it-py>=2.2.0 in /usr/local/lib/python3.10/dist-packages (from rich->keras>=3.2.0->tensorflow) (3.0.0)\n",
            "Requirement already satisfied: pygments<3.0.0,>=2.13.0 in /usr/local/lib/python3.10/dist-packages (from rich->keras>=3.2.0->tensorflow) (2.18.0)\n",
            "Requirement already satisfied: mdurl~=0.1 in /usr/local/lib/python3.10/dist-packages (from markdown-it-py>=2.2.0->rich->keras>=3.2.0->tensorflow) (0.1.2)\n"
          ]
        }
      ]
    },
    {
      "cell_type": "code",
      "source": [
        "import os\n",
        "import numpy as np\n",
        "import matplotlib.pyplot as plt\n",
        "from PIL import Image\n",
        "from tensorflow.keras import layers, models\n",
        "from tensorflow.keras.optimizers import Adam"
      ],
      "metadata": {
        "id": "G1dzSdJTLPRE"
      },
      "execution_count": null,
      "outputs": []
    },
    {
      "cell_type": "code",
      "source": [
        "from google.colab import drive\n",
        "drive.mount('/content/drive')\n",
        "\n",
        "# Path ke dataset\n",
        "data_dir = '/content/drive/MyDrive/path_to_dataset'"
      ],
      "metadata": {
        "colab": {
          "base_uri": "https://localhost:8080/"
        },
        "id": "spVVdAeILPh6",
        "outputId": "95abcc5d-e2cf-49d4-aaa8-25d3757ec936"
      },
      "execution_count": 140,
      "outputs": [
        {
          "output_type": "stream",
          "name": "stdout",
          "text": [
            "Drive already mounted at /content/drive; to attempt to forcibly remount, call drive.mount(\"/content/drive\", force_remount=True).\n"
          ]
        }
      ]
    },
    {
      "cell_type": "code",
      "source": [
        "def build_generator(latent_dim):\n",
        "    model = models.Sequential([\n",
        "        layers.Dense(4 * 4 * 256, input_dim=latent_dim),\n",
        "        layers.Reshape((4, 4, 256)),\n",
        "        layers.Conv2DTranspose(128, kernel_size=4, strides=2, padding=\"same\", activation=\"relu\"),\n",
        "        layers.BatchNormalization(),\n",
        "        layers.Conv2DTranspose(64, kernel_size=4, strides=2, padding=\"same\", activation=\"relu\"),\n",
        "        layers.BatchNormalization(),\n",
        "        layers.Conv2DTranspose(32, kernel_size=4, strides=2, padding=\"same\", activation=\"relu\"),\n",
        "        layers.BatchNormalization(),\n",
        "        layers.Conv2DTranspose(3, kernel_size=4, strides=2, padding=\"same\", activation=\"tanh\")\n",
        "    ])\n",
        "    return model\n"
      ],
      "metadata": {
        "id": "kUvtp9zHh3rf"
      },
      "execution_count": 79,
      "outputs": []
    },
    {
      "cell_type": "code",
      "source": [
        "def build_discriminator(img_shape):\n",
        "    model = models.Sequential([\n",
        "        layers.Conv2D(64, kernel_size=4, strides=2, padding=\"same\", input_shape=img_shape),\n",
        "        layers.LeakyReLU(alpha=0.2),\n",
        "        layers.Conv2D(128, kernel_size=4, strides=2, padding=\"same\"),\n",
        "        layers.LeakyReLU(alpha=0.2),\n",
        "        layers.Conv2D(256, kernel_size=4, strides=2, padding=\"same\"),\n",
        "        layers.LeakyReLU(alpha=0.2),\n",
        "        layers.Flatten(),\n",
        "        layers.Dense(1, activation=\"sigmoid\")\n",
        "    ])\n",
        "    return model"
      ],
      "metadata": {
        "id": "AYW-LwsOiRgT"
      },
      "execution_count": 81,
      "outputs": []
    },
    {
      "cell_type": "code",
      "source": [
        "img_shape = (64, 64, 3)\n",
        "discriminator = build_discriminator(img_shape)\n"
      ],
      "metadata": {
        "colab": {
          "base_uri": "https://localhost:8080/"
        },
        "id": "3U7YvNQMiUyg",
        "outputId": "21a55b5a-8b1c-436f-bf50-60ced1683cc4"
      },
      "execution_count": 82,
      "outputs": [
        {
          "output_type": "stream",
          "name": "stderr",
          "text": [
            "/usr/local/lib/python3.10/dist-packages/keras/src/layers/convolutional/base_conv.py:107: UserWarning: Do not pass an `input_shape`/`input_dim` argument to a layer. When using Sequential models, prefer using an `Input(shape)` object as the first layer in the model instead.\n",
            "  super().__init__(activity_regularizer=activity_regularizer, **kwargs)\n",
            "/usr/local/lib/python3.10/dist-packages/keras/src/layers/activations/leaky_relu.py:41: UserWarning: Argument `alpha` is deprecated. Use `negative_slope` instead.\n",
            "  warnings.warn(\n"
          ]
        }
      ]
    },
    {
      "cell_type": "markdown",
      "source": [
        "# Bagian Baru"
      ],
      "metadata": {
        "id": "SK4sUw_1UCI7"
      }
    },
    {
      "cell_type": "code",
      "source": [
        "def build_gan(generator, discriminator):\n",
        "    # Discriminator tidak dilatih selama pelatihan GAN\n",
        "    discriminator.trainable = False\n",
        "\n",
        "    # Input untuk GAN\n",
        "    gan_input = layers.Input(shape=(latent_dim,))\n",
        "\n",
        "    # Generator menghasilkan gambar dari input noise\n",
        "    generated_image = generator(gan_input)\n",
        "\n",
        "    # Discriminator mengevaluasi gambar yang dihasilkan\n",
        "    gan_output = discriminator(generated_image)\n",
        "\n",
        "    # Kombinasikan Generator dan Discriminator\n",
        "    gan = models.Model(gan_input, gan_output)\n",
        "    gan.compile(optimizer=Adam(0.0002, 0.5), loss='binary_crossentropy')\n",
        "    return gan\n",
        "\n",
        "    # Pastikan `generator` dan `discriminator` sudah dibuat sebelumnya\n",
        "    gan = build_gan(generator, discriminator)\n",
        "    gan.summary()\n"
      ],
      "metadata": {
        "id": "q-m2ZqKkhKWr"
      },
      "execution_count": 89,
      "outputs": []
    },
    {
      "cell_type": "code",
      "source": [
        "from PIL import Image  # Impor dengan benar\n",
        "\n",
        "def preprocess_images(data_dir, img_size=(64, 64)):\n",
        "    images = []\n",
        "    for img_name in os.listdir(data_dir):\n",
        "        img_path = os.path.join(data_dir, img_name)\n",
        "        img = Image.open(img_path).resize(img_size).convert(\"RGB\")  # Gunakan Image.open\n",
        "        images.append(np.asarray(img) / 127.5 - 1)  # Normalize to [-1, 1]\n",
        "    return np.array(images)\n",
        "\n",
        "# Contoh pemanggilan fungsi\n",
        "anime_images = preprocess_images(data_dir)\n",
        "print(f\"Dataset size: {anime_images.shape}\")\n"
      ],
      "metadata": {
        "colab": {
          "base_uri": "https://localhost:8080/"
        },
        "id": "cnq6V28AkLhD",
        "outputId": "1cd47a85-4198-493e-e031-f91b3a62a0fa"
      },
      "execution_count": 103,
      "outputs": [
        {
          "output_type": "stream",
          "name": "stdout",
          "text": [
            "Dataset size: (118, 64, 64, 3)\n"
          ]
        }
      ]
    },
    {
      "cell_type": "code",
      "source": [
        "latent_dim = 100\n",
        "generator = build_generator(latent_dim)\n",
        "\n",
        "# Generate a sample image\n",
        "noise = np.random.normal(0, 1, (1, latent_dim))\n",
        "generated_image = generator.predict(noise)\n",
        "print(f\"Generated image shape: {generated_image.shape}\")"
      ],
      "metadata": {
        "colab": {
          "base_uri": "https://localhost:8080/"
        },
        "id": "RvunbRJdkYmC",
        "outputId": "7776d77a-3653-4ab5-b212-06bb29775ba1"
      },
      "execution_count": 90,
      "outputs": [
        {
          "output_type": "stream",
          "name": "stdout",
          "text": [
            "\u001b[1m1/1\u001b[0m \u001b[32m━━━━━━━━━━━━━━━━━━━━\u001b[0m\u001b[37m\u001b[0m \u001b[1m0s\u001b[0m 198ms/step\n",
            "Generated image shape: (1, 64, 64, 3)\n"
          ]
        }
      ]
    },
    {
      "cell_type": "code",
      "source": [
        "def train_dcgan(generator, discriminator, gan, images, latent_dim, epochs, batch_size):\n",
        "    half_batch = batch_size // 2\n",
        "    for epoch in range(epochs):\n",
        "        # Train Discriminator\n",
        "        idx = np.random.randint(0, images.shape[0], half_batch)\n",
        "        real_imgs = images[idx]\n",
        "        noise = np.random.normal(0, 1, (half_batch, latent_dim))\n",
        "        fake_imgs = generator.predict(noise)\n",
        "        d_loss_real = discriminator.train_on_batch(real_imgs, np.ones((half_batch, 1)))\n",
        "        d_loss_fake = discriminator.train_on_batch(fake_imgs, np.zeros((half_batch, 1)))\n",
        "        d_loss = 0.5 * np.add(d_loss_real, d_loss_fake)\n",
        "\n",
        "        # Train Generator\n",
        "        noise = np.random.normal(0, 1, (batch_size, latent_dim))\n",
        "        g_loss = gan.train_on_batch(noise, np.ones((batch_size, 1)))\n",
        "\n",
        "        # Display progress\n",
        "        if epoch % 100 == 0:\n",
        "            print(f\"Epoch: {epoch}/{epochs} | D Loss: {d_loss[0]} | G Loss: {g_loss}\")\n",
        "            save_generated_images(generator, latent_dim, epoch)\n",
        "\n",
        "def save_generated_images(generator, latent_dim, epoch, examples=25, dim=(5, 5), figsize=(10, 10)):\n",
        "    noise = np.random.normal(0, 1, (examples, latent_dim))\n",
        "    generated_images = generator.predict(noise)\n",
        "    generated_images = (generated_images + 1) / 2.0  # Rescale to [0, 1] for visualization\n",
        "    fig, axs = plt.subplots(dim[0], dim[1], figsize=figsize)\n",
        "    cnt = 0\n",
        "    for i in range(dim[0]):\n",
        "        for j in range(dim[1]):\n",
        "            axs[i, j].imshow(generated_images[cnt])\n",
        "            axs[i, j].axis('off')\n",
        "            cnt += 1\n",
        "    plt.savefig(f\"generated_images_epoch_{epoch}.png\")\n",
        "    plt.close()\n"
      ],
      "metadata": {
        "id": "x9aG9eNOTl0-"
      },
      "execution_count": 145,
      "outputs": []
    },
    {
      "cell_type": "code",
      "source": [
        "latent_dim = 100\n",
        "img_shape = (64, 64, 3)\n",
        "\n",
        "generator = build_generator(latent_dim)\n",
        "discriminator = build_discriminator(img_shape)\n",
        "gan = build_gan(generator, discriminator)\n",
        "\n",
        "train_dcgan=(generator, discriminator, gan, anime_images, latent_dim, epochs, batch_size)\n"
      ],
      "metadata": {
        "colab": {
          "base_uri": "https://localhost:8080/"
        },
        "id": "5loibuyams2b",
        "outputId": "f31ca7b7-7024-4779-bfde-722277e806d2"
      },
      "execution_count": 116,
      "outputs": [
        {
          "output_type": "stream",
          "name": "stderr",
          "text": [
            "/usr/local/lib/python3.10/dist-packages/keras/src/layers/core/dense.py:87: UserWarning: Do not pass an `input_shape`/`input_dim` argument to a layer. When using Sequential models, prefer using an `Input(shape)` object as the first layer in the model instead.\n",
            "  super().__init__(activity_regularizer=activity_regularizer, **kwargs)\n",
            "/usr/local/lib/python3.10/dist-packages/keras/src/layers/convolutional/base_conv.py:107: UserWarning: Do not pass an `input_shape`/`input_dim` argument to a layer. When using Sequential models, prefer using an `Input(shape)` object as the first layer in the model instead.\n",
            "  super().__init__(activity_regularizer=activity_regularizer, **kwargs)\n",
            "/usr/local/lib/python3.10/dist-packages/keras/src/layers/activations/leaky_relu.py:41: UserWarning: Argument `alpha` is deprecated. Use `negative_slope` instead.\n",
            "  warnings.warn(\n"
          ]
        }
      ]
    },
    {
      "cell_type": "code",
      "source": [
        "from PIL import Image\n",
        "import numpy as np\n",
        "\n",
        "generated_image = np.random.rand(64, 64, 3) * 255  # Contoh gambar acak\n",
        "generated_image = generated_image.astype(np.uint8)  # Ubah ke tipe data uint8\n",
        "\n",
        "pil_image = Image.fromarray(generated_image)\n",
        "\n",
        "epoch = 100\n",
        "pil_image.save(f'generated_images_epoch_{epoch}.png')"
      ],
      "metadata": {
        "id": "bR_zwhfkm7I4"
      },
      "execution_count": 144,
      "outputs": []
    },
    {
      "cell_type": "code",
      "source": [
        "from PIL import Image\n",
        "from IPython.display import display\n",
        "import os\n",
        "\n",
        "directory = '/content/drive/MyDrive/path_to_dataset'\n",
        "\n",
        "files = os.listdir(directory)\n",
        "print(files)  # Lihat daftar file di direktori\n",
        "\n",
        "image_filename = '993_2000.jpg'\n",
        "img_path = os.path.join(directory, image_filename)\n",
        "\n",
        "img = Image.open(img_path)\n",
        "display(img)\n",
        "\n",
        "\n"
      ],
      "metadata": {
        "colab": {
          "base_uri": "https://localhost:8080/",
          "height": 123
        },
        "id": "Kx5UpR4PqTvv",
        "outputId": "e989b864-a423-458b-82f7-919cb381585f"
      },
      "execution_count": 160,
      "outputs": [
        {
          "output_type": "stream",
          "name": "stdout",
          "text": [
            "['98_2000.jpg', '97_2000.jpg', '96_2000.jpg', '94_2000.jpg', '99_2000.jpg', '92_2000.jpg', '93_2000.jpg', '9_2000.jpg', '88_2000.jpg', '90_2000.jpg', '95_2000.jpg', '8_2000.jpg', '89_2000.jpg', '91_2000.jpg', '911_2000.jpg', '929_2000.jpg', '930_2000.jpg', '922_2000.jpg', '937_2000.jpg', '926_2000.jpg', '921_2000.jpg', '925_2000.jpg', '924_2000.jpg', '928_2000.jpg', '927_2000.jpg', '920_2000.jpg', '923_2000.jpg', '910_2000.jpg', '918_2000.jpg', '917_2000.jpg', '912_2000.jpg', '916_2000.jpg', '919_2000.jpg', '915_2000.jpg', '913_2000.jpg', '914_2000.jpg', '965_2000.jpg', '978_2000.jpg', '968_2000.jpg', '959_2000.jpg', '957_2000.jpg', '955_2000.jpg', '951_2000.jpg', '950_2000.jpg', '958_2000.jpg', '956_2000.jpg', '979_2000.jpg', '969_2000.jpg', '954_2000.jpg', '952_2000.jpg', '971_2000.jpg', '972_2000.jpg', '975_2000.jpg', '974_2000.jpg', '973_2000.jpg', '970_2000.jpg', '976_2000.jpg', '953_2000.jpg', '966_2000.jpg', '960_2000.jpg', '962_2000.jpg', '963_2000.jpg', '961_2000.jpg', '967_2000.jpg', '964_2000.jpg', '943_2000.jpg', '945_2000.jpg', '948_2000.jpg', '941_2000.jpg', '944_2000.jpg', '940_2000.jpg', '942_2000.jpg', '949_2000.jpg', '933_2000.jpg', '931_2000.jpg', '938_2000.jpg', '934_2000.jpg', '932_2000.jpg', '936_2000.jpg', '935_2000.jpg', '947_2000.jpg', '939_2000.jpg', '946_2000.jpg', '996_2000.jpg', '989_2000.jpg', '988_2000.jpg', '983_2000.jpg', '985_2000.jpg', '986_2000.jpg', '984_2000.jpg', '982_2000.jpg', '980_2000.jpg', '981_2000.jpg', '987_2000.jpg', '977_2000.jpg', '8851_2004.jpg', '8847_2004.jpg', '8849_2004.jpg', '993_2000.jpg', '991_2000.jpg', '992_2000.jpg', '995_2000.jpg', '990_2000.jpg', '997_2000.jpg', '8848_2004.jpg', '8842_2004.jpg', '8846_2004.jpg', '8840_2004.jpg', '8843_2004.jpg', '8845_2004.jpg', '8841_2004.jpg', '8844_2004.jpg', '999_2000.jpg', '998_2000.jpg', '994_2000.jpg', '8853_2004.jpg', '8850_2004.jpg', '8852_2004.jpg']\n"
          ]
        },
        {
          "output_type": "display_data",
          "data": {
            "text/plain": [
              "<PIL.JpegImagePlugin.JpegImageFile image mode=RGB size=69x69>"
            ],
            "image/png": "[encoded data removed]",
            "image/jpeg": "[encoded data removed]"
          },
          "metadata": {}
        }
      ]
    }
  ]
}